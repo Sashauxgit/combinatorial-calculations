{
 "cells": [
  {
   "cell_type": "markdown",
   "id": "70107fbc",
   "metadata": {},
   "source": [
    "# Не относится к работе"
   ]
  },
  {
   "cell_type": "code",
   "execution_count": null,
   "id": "39b69794",
   "metadata": {},
   "outputs": [],
   "source": [
    "Pval = [1, 1, 2, 3, 5]"
   ]
  },
  {
   "cell_type": "code",
   "execution_count": null,
   "id": "1cdcc185",
   "metadata": {},
   "outputs": [],
   "source": [
    "def p(n):\n",
    "    global Pval\n",
    "    if n < 0:\n",
    "        return 0\n",
    "    if n < len(Pval):\n",
    "        return Pval[n]\n",
    "    k = 1\n",
    "    rval = 0\n",
    "    while True:\n",
    "        p1 = p(n - (3*k**2 - k)//2)\n",
    "        p2 = p(n - (3*k**2 + k)//2)\n",
    "        rval += (1 if k%2 else -1)*(p1 + p2)\n",
    "        if p1 < 1 or p2 < 1:\n",
    "            break\n",
    "        k += 1\n",
    "    Pval += [0 for i in range(n - len(Pval) + 1)]\n",
    "    Pval[n] = rval\n",
    "    return Pval[n]"
   ]
  },
  {
   "cell_type": "code",
   "execution_count": null,
   "id": "f29bbe29",
   "metadata": {},
   "outputs": [],
   "source": [
    "# Игрушка дьявола\n",
    "for i in range(1, 51):\n",
    "    p(2000*i)\n",
    "print(p(100000))"
   ]
  },
  {
   "cell_type": "markdown",
   "id": "d161096a",
   "metadata": {},
   "source": [
    "# Предисловие"
   ]
  },
  {
   "cell_type": "code",
   "execution_count": 1,
   "id": "26b8f5fc",
   "metadata": {},
   "outputs": [],
   "source": [
    "import copy\n",
    "import numpy as np\n",
    "from matplotlib import pyplot as plt\n",
    "from matplotlib.patches import Rectangle\n",
    "from matplotlib.ticker import MaxNLocator\n",
    "\n",
    "plt.rcParams['figure.figsize'] = [7, 7]"
   ]
  },
  {
   "cell_type": "markdown",
   "id": "075138b3",
   "metadata": {},
   "source": [
    "## Перестановка"
   ]
  },
  {
   "cell_type": "code",
   "execution_count": 2,
   "id": "05909a43",
   "metadata": {},
   "outputs": [],
   "source": [
    "class Permutation:\n",
    "    def __init__(self, per):\n",
    "        if isinstance(per, tuple):\n",
    "            self._per = per\n",
    "            self._cycles = None\n",
    "            self._cols = None\n",
    "        elif isinstance(per, list):\n",
    "            cycles = per\n",
    "            self._per = [0]*sum([len(c) for c in cycles])\n",
    "            self._cycles = cycles.deepcopy()\n",
    "            \n",
    "            for c in cycles:\n",
    "                for idx, next_idx in zip(c, c[1:]+(c[0],)):\n",
    "                    self._per[idx-1] = next_idx\n",
    "        else:\n",
    "            raise TypeError(f\"Cannot construct a permutation from value of type {type(per)}\")\n",
    "        \n",
    "        self._yung_diag = None\n",
    "        \n",
    "        self._length = len(self._per)\n",
    "        self._inv = None\n",
    "        \n",
    "    def __str__(self):\n",
    "        str_rep = ''\n",
    "        max_num_len = len(self._length.__str__())\n",
    "        for i, e in enumerate(self._per):\n",
    "            i_str = (i+1).__str__()\n",
    "            str_rep += ' '*(max_num_len-len(i_str))\n",
    "            str_rep += i_str + ' -> '\n",
    "            str_rep += e.__str__() + '\\n'\n",
    "        return str_rep + '\\n'\n",
    "    \n",
    "    # Композиция перестановок\n",
    "    def __mul__(self, other):\n",
    "        if self.length() != other.length():\n",
    "            raise ValueError('Composing permutations of defferent lengths')\n",
    "        composition = []\n",
    "        for i in range(self.length()):\n",
    "            composition.append(other.element(self._per[i]))\n",
    "        return Permutation(tuple(composition))\n",
    "        \n",
    "    def element(self, idx):\n",
    "        return self._per[idx-1]\n",
    "        \n",
    "    def length(self):\n",
    "        return self._length\n",
    "    \n",
    "    # Обратная перестановка\n",
    "    def inv(self):\n",
    "        if self._inv is None:\n",
    "            inv_list = [0] * len(self._per)\n",
    "            for i, e in enumerate(self._per):\n",
    "                inv_list[e-1] = i + 1\n",
    "            self._inv = Permutation(tuple(inv_list))\n",
    "        return self._inv\n",
    "    \n",
    "    # Извлечение циклов\n",
    "    def cycles(self):\n",
    "        if self._cycles is None:\n",
    "            self._cycles = []\n",
    "            bool_map = 0\n",
    "            next_available = 0\n",
    "            while next_available < self._length:\n",
    "                cur_idx = next_available\n",
    "                cycle = []\n",
    "                while len(cycle) < 1 or cycle[0] != (cur_idx+1):\n",
    "                    cycle.append(cur_idx+1)\n",
    "                    bool_map += 2**cur_idx\n",
    "                    cur_idx = self._per[cur_idx]-1\n",
    "                self._cycles.append(tuple(cycle))\n",
    "                \n",
    "                next_available += 1\n",
    "                while 2**next_available & bool_map:\n",
    "                    next_available += 1\n",
    "        return self._cycles\n",
    "    \n",
    "    # Длины циклов (столбцы диаграммы Юнга) \n",
    "    def cols(self):\n",
    "        if self._cols is None:\n",
    "            t = [len(c) for c in self.cycles()]\n",
    "            t.sort(reverse=True)\n",
    "            self._cols = tuple(t)\n",
    "        return self._cols\n",
    "    \n",
    "    def max_cycle_len(self):\n",
    "        return self.cols()[0]\n",
    "    \n",
    "    # Визуализация диаграммой Юнга\n",
    "    def yung(self):\n",
    "        if self._yung_diag:\n",
    "            return self._yung_diag\n",
    "        \n",
    "        self._yung_diag = YungDiagram()\n",
    "        cols = self.cols()\n",
    "        for i in range (len(cols)):\n",
    "            for j in range(cols[i]):\n",
    "                self._yung_diag.insertCell(Cell(i+1, j+1))\n",
    "        return self._yung_diag\n",
    "    \n",
    "    def RSK(self):\n",
    "        P = YungDiagram()\n",
    "        Q = YungDiagram()\n",
    "\n",
    "        if self.length() < 1:\n",
    "            return P, Q\n",
    "\n",
    "        c = Cell(1, 1, self.element(1))\n",
    "        nCell = Cell(1, 1, 1)\n",
    "        P.insertCell(c)\n",
    "        Q.insertCell(nCell)\n",
    "        for i in range(2, self.length()+1):\n",
    "            val = self.element(i)\n",
    "            col_idx = 0\n",
    "            cur_val = val\n",
    "            while col_idx < P.w:\n",
    "                for j in range(P.lencol[col_idx]):\n",
    "                    cur_cell = P.getCell(col_idx+1, j+1)\n",
    "                    if cur_val < cur_cell.val:\n",
    "                        cur_val, cur_cell.val = cur_cell.val, cur_val\n",
    "                        col_idx += 1\n",
    "                        break\n",
    "                else:\n",
    "                    x, y = col_idx+1, P.lencol[col_idx]+1\n",
    "                    P.insertCell(Cell(x, y, cur_val))\n",
    "                    Q.insertCell(Cell(x, y, i))\n",
    "                    break\n",
    "            else:\n",
    "                x, y = col_idx+1, 1\n",
    "                P.insertCell(Cell(x, y, cur_val))\n",
    "                Q.insertCell(Cell(x, y, i))\n",
    "\n",
    "        return P, Q"
   ]
  },
  {
   "cell_type": "markdown",
   "id": "4ba122d9",
   "metadata": {},
   "source": [
    "## Клетка диаграммы"
   ]
  },
  {
   "cell_type": "code",
   "execution_count": 3,
   "id": "1efcd9d8",
   "metadata": {},
   "outputs": [],
   "source": [
    "class Cell:\n",
    "    def __init__(self, x, y, val=0):\n",
    "        self.x = x if x > 0 else 1\n",
    "        self.y = y if y > 0 else 1\n",
    "        if val < 1:\n",
    "            self.val = None\n",
    "        else:\n",
    "            self.val = val\n",
    "        # Длина крюка\n",
    "        self.hl = None\n",
    "    \n",
    "    def __str__(self):\n",
    "        sd = str(self.x) + ' '\n",
    "        sd += str(self.y) + ' '\n",
    "        sd += ('*' if not self.val else str(self.val))\n",
    "        return sd"
   ]
  },
  {
   "cell_type": "markdown",
   "id": "e63525f3",
   "metadata": {},
   "source": [
    "## Базовая диаграмма"
   ]
  },
  {
   "cell_type": "code",
   "execution_count": 4,
   "id": "2e7c9426",
   "metadata": {},
   "outputs": [],
   "source": [
    "class Diagram:\n",
    "    def __init__(self, h=0, w=0, cells=None):\n",
    "        self.type = 0\n",
    "        self.h, self.w = (0 if h < 0 else h), (0 if w < 0 else w)\n",
    "        self.cols = [[None for j in range(self.h)] for i in range(self.w)]\n",
    "        self.n = 0\n",
    "        if cells:\n",
    "            for c in cells:\n",
    "                self.insertCell(c)\n",
    "    \n",
    "    def __str__(self):\n",
    "        s_repr = ''\n",
    "        for c_col in self.cols:\n",
    "            for c_row in c_col:\n",
    "                if c_row:\n",
    "                    s_repr += c_row.__str__()\n",
    "                s_repr += '\\t'\n",
    "            s_repr += '\\n'\n",
    "        return s_repr\n",
    "    \n",
    "    def isCellBeyond(self, x, y):\n",
    "        if 1 <= x <= self.w and 1 <= y <= self.h:\n",
    "            return False\n",
    "        return True\n",
    "    \n",
    "    def getCell(self, x, y):\n",
    "        if self.isCellBeyond(x, y):\n",
    "            return None\n",
    "        return self.cols[x-1][y-1]\n",
    "    \n",
    "    def reassignValue(self, x, y, val):\n",
    "        c = self.getCell(x, y)\n",
    "        if not c:\n",
    "            return False\n",
    "        c.val = val\n",
    "        return True\n",
    "    \n",
    "    def insertCell(self, c):\n",
    "        prev_w = self.w\n",
    "        if c.x > self.w:\n",
    "                self.w = c.x\n",
    "        if c.y > self.h:\n",
    "                self.h = c.y\n",
    "        self.cols += [[None for j in range(self.h)] for i in range(self.w - prev_w)]\n",
    "        for i in range(prev_w):\n",
    "            self.cols[i] += [None for j in range(self.h - len(self.cols[i]))]\n",
    "        self.cols[c.x-1][c.y-1] = c\n",
    "        self.n += 1\n",
    "    \n",
    "    def ejectCell(self, x, y):\n",
    "        c = self.getCell(x, y)\n",
    "        if not c:\n",
    "            return None\n",
    "        \n",
    "        self.cols[x-1][y-1] = None\n",
    "        \n",
    "        last_col_empty = True\n",
    "        last_row_empty = True\n",
    "        for col_c in self.cols[self.w-1]:\n",
    "            if not col_c is None:\n",
    "                last_col_empty = False\n",
    "                break\n",
    "        for col in self.cols:\n",
    "            if not col[self.h-1] is None:\n",
    "                last_row_empty = False\n",
    "                break\n",
    "        \n",
    "        if last_col_empty:\n",
    "            del self.cols[self.w-1]\n",
    "            self.w -= 1\n",
    "        if last_row_empty:\n",
    "            for col in self.cols:\n",
    "                del col[self.h-1]\n",
    "            self.h -= 1\n",
    "        \n",
    "        self.n -= 1\n",
    "        return c\n",
    "    \n",
    "    # Является ли диаграмма таблицей\n",
    "    def isTable(self, startCell=(1, 1)):\n",
    "        x, y = startCell\n",
    "        if self.isCellBeyond(x, y):\n",
    "            return True\n",
    "        \n",
    "        next_is_table = self.isTable((x+1, y))\n",
    "        if not next_is_table:\n",
    "            return False\n",
    "        \n",
    "        c_col = self.cols[x-1]\n",
    "        for c in c_col:\n",
    "            if not c:\n",
    "                y += 1\n",
    "                continue\n",
    "            elif not c.val:\n",
    "                return False\n",
    "            if x < self.w:\n",
    "                right_c = self.getCell(x+1, y)\n",
    "                if right_c and right_c.val <= c.val:\n",
    "                    #print(f\"Cell ({c.x}, {c.y}, {c.val}) right: ({right_c.x}, {right_c.y}, {right_c.val})\")\n",
    "                    return False\n",
    "            if y < self.h:\n",
    "                upper_c = self.getCell(x, y+1)\n",
    "                if upper_c and upper_c.val <= c.val:\n",
    "                    #print(f\"Cell ({c.x}, {c.y}, {c.val}) upper: ({upper_c.x}, {upper_c.y}, {upper_c.val})\")\n",
    "                    return False\n",
    "            y += 1\n",
    "        return True\n",
    "    \n",
    "    def getCellsList(self):\n",
    "        clist = []\n",
    "        for i in range(self.w):\n",
    "            for j in range(self.h):\n",
    "                if self.cols[i][j]:\n",
    "                    clist.append(self.cols[i][j])\n",
    "        return clist\n",
    "    \n",
    "    def getCellsCopies(self):\n",
    "        return [copy.copy(c) for c in self.getCellsList()]\n",
    "    \n",
    "    def draw(self, mode='val'):\n",
    "        fig, ax = plt.subplots()\n",
    "        clist = self.getCellsList()\n",
    "        for c in clist:\n",
    "            if c is None:\n",
    "                continue\n",
    "            r = Rectangle((c.x-0.5, c.y-0.5), 1, 1, edgecolor='black', facecolor=(0,0,0,0))\n",
    "            ax.add_patch(r)\n",
    "            ann = ''\n",
    "            if mode == 'val':\n",
    "                ann = c.val\n",
    "            elif mode == 'hook_len':\n",
    "                ann = c.hl\n",
    "            else:\n",
    "                continue\n",
    "            ax.annotate(ann, (c.x, c.y), color='black', weight='normal', \n",
    "                            fontsize=14, ha='center', va='center')\n",
    "        plt.axis('scaled')\n",
    "        ax.yaxis.set_major_locator(MaxNLocator(integer=True))\n",
    "        ax.plot()\n",
    "        plt.show()\n",
    "        \n",
    "    def save(self, fname):\n",
    "        fd = open(fname, 'w')\n",
    "        if not fd:\n",
    "            return False\n",
    "        \n",
    "        fd.write(str(self.type)+'\\n')\n",
    "        for c in self.getCellsList():\n",
    "            fd.write(c.__str__() + '\\n')\n",
    "        fd.close()\n",
    "        return True\n",
    "    \n",
    "    def isEjAvail(self, x, y):\n",
    "        pass\n",
    "    \n",
    "    def isInsAvail(self, x, y):\n",
    "        pass"
   ]
  },
  {
   "cell_type": "markdown",
   "id": "b10a6aad",
   "metadata": {},
   "source": [
    "## Диаграмма Юнга прямой формы"
   ]
  },
  {
   "cell_type": "code",
   "execution_count": 5,
   "id": "6cc142a0",
   "metadata": {},
   "outputs": [],
   "source": [
    "class YungDiagram(Diagram):\n",
    "    def __init__(self, cells=None):\n",
    "        super().__init__()\n",
    "        self.type = 1\n",
    "        self.lencol = []\n",
    "        if cells:\n",
    "            for c in cells:\n",
    "                if not self.insertCell(c):\n",
    "                    break\n",
    "    \n",
    "    # Отношение частичного порядка\n",
    "    def __le__(self, other):\n",
    "        if self.w > other.w:\n",
    "            return False\n",
    "        for i in range(self.w):\n",
    "            if self.lencol[i] > other.lencol[i]:\n",
    "                return False\n",
    "        return True\n",
    "    \n",
    "    def __gt__(self, other):\n",
    "        return not self <= other\n",
    "    \n",
    "    def __eq__(self, other):\n",
    "        return self <= other and other <= self\n",
    "    \n",
    "    def __ne__(self, other):\n",
    "        return not self == other\n",
    "    \n",
    "    def __lt__(self, other):\n",
    "        return other > self\n",
    "    \n",
    "    def __ge__(self, other):\n",
    "        return not self < other\n",
    "    \n",
    "    # Разность диаграмм\n",
    "    def __sub__(self, other):\n",
    "        if self < other:\n",
    "            raise ValueError('Subtraction from lesser diagram')\n",
    "        \n",
    "        cells = []\n",
    "        for i in range(other.w):\n",
    "            for j in range(other.lencol[i], self.lencol[i]):\n",
    "                c = copy.copy(self.getCell(i+1, j+1))\n",
    "                cells.append(c)\n",
    "        \n",
    "        for i in range(other.w, self.w):\n",
    "            for j in range(self.lencol[i]):\n",
    "                c = copy.copy(self.getCell(i+1, j+1))\n",
    "                cells.append(c)\n",
    "        \n",
    "        return YungDiagramSlash(cells)\n",
    "    \n",
    "    def reading(self):\n",
    "        if not self.isTable():\n",
    "            return None\n",
    "        clist = self.getCellsList()\n",
    "        rg = []\n",
    "        border = 0\n",
    "        for lcol in reversed(self.lencol):\n",
    "            l = border - lcol\n",
    "            r = border if border < 0 else None\n",
    "            rg += [c.val for c in clist[l:r]]\n",
    "            border -= lcol\n",
    "        return tuple(rg)\n",
    "    \n",
    "    def isEjAvail(self, x, y):\n",
    "        c = self.getCell(x, y)\n",
    "        tn = self.getCell(x, y+1)\n",
    "        rn = self.getCell(x+1, y)\n",
    "        # Клетка не пуста и не имеет правого/верхнего соседа - можно изъять\n",
    "        return c and not (tn or rn)\n",
    "    \n",
    "    def isInsAvail(self, x, y):\n",
    "        c = self.getCell(x, y)\n",
    "        ln = self.getCell(x-1, y)\n",
    "        bn = self.getCell(x, y-1)\n",
    "        is_corner = (x == 1 and y == 1) or (x == 1 and bn) or (y == 1 and ln) or (ln and bn)\n",
    "        # Клетка пуста и является угловой - можно вставить\n",
    "        return not c and is_corner\n",
    "    \n",
    "    def insertCell(self, c):\n",
    "        if not self.isInsAvail(c.x, c.y):\n",
    "            return False\n",
    "        c.hl = 1\n",
    "        super().insertCell(c)\n",
    "        \n",
    "        # Обновление длин крюков\n",
    "        for i in range(1, c.x):\n",
    "            self.getCell(i, c.y).hl += 1\n",
    "        for j in range(1, c.y):\n",
    "            self.getCell(c.x, j).hl += 1\n",
    "        \n",
    "        # Учет длин столбцов\n",
    "        if c.x > len(self.lencol):\n",
    "            self.lencol.append(1)\n",
    "        else:\n",
    "            self.lencol[c.x-1] += 1\n",
    "        \n",
    "        return True\n",
    "    \n",
    "    def ejectCell(self, x, y):\n",
    "        if not self.isEjAvail(x, y):\n",
    "            return None\n",
    "        ejected = super().ejectCell(x, y)\n",
    "        \n",
    "        for i in range(1, x):\n",
    "            self.getCell(i, y).hl -= 1\n",
    "        for j in range(1, y):\n",
    "            self.getCell(x, j).hl -= 1\n",
    "        \n",
    "        self.lencol[x-1] -= 1\n",
    "        if self.lencol[x-1] < 1:\n",
    "            del self.lencol[x-1]\n",
    "        \n",
    "        return ejected"
   ]
  },
  {
   "cell_type": "markdown",
   "id": "405e6213",
   "metadata": {},
   "source": [
    "## Косая диаграмма Юнга"
   ]
  },
  {
   "cell_type": "code",
   "execution_count": 6,
   "id": "9c9b6643",
   "metadata": {},
   "outputs": [],
   "source": [
    "# Косая диаграмма Юнга\n",
    "class YungDiagramSlash(Diagram):\n",
    "    def __init__(self, cells=None):\n",
    "        super().__init__()\n",
    "        self.type = 2\n",
    "        self.min_compl_diag = None\n",
    "        if cells:\n",
    "            for c in cells:\n",
    "                if not self.insertCell(c):\n",
    "                    break\n",
    "    \n",
    "    # Минимальная дополняющая диаграмма (если с ней склеить, получается прямая форма)\n",
    "    def minComplDiag(self):\n",
    "        if self.min_compl_diag:\n",
    "            return self.min_compl_diag\n",
    "        \n",
    "        heights = []\n",
    "        max_height = 0\n",
    "        for i in range(self.w, 0, -1):\n",
    "            raycast = False\n",
    "            for j in range(1, self.h+2):\n",
    "                if not raycast and self.getCell(i, j):\n",
    "                    raycast = True\n",
    "                    heights = [j-1] + heights\n",
    "                if raycast and not self.getCell(i, j):\n",
    "                    max_height = j-1\n",
    "                    break\n",
    "            else:\n",
    "                heights = [max_height] + heights\n",
    "        cells = [Cell(x+1, y+1) for x in range(len(heights)) for y in range(heights[x])]\n",
    "        \n",
    "        self.min_compl_diag = YungDiagram(cells=cells)\n",
    "        return self.min_compl_diag\n",
    "                \n",
    "    def isEjAvail(self, x, y):\n",
    "        c = self.getCell(x, y)\n",
    "        ln = self.getCell(x-1, y)\n",
    "        tn = self.getCell(x, y+1)\n",
    "        rn = self.getCell(x+1, y)\n",
    "        bn = self.getCell(x, y-1)\n",
    "        \n",
    "        is_outer = (not tn and not rn) or (not bn and not ln)\n",
    "        \n",
    "        return c and is_outer\n",
    "    \n",
    "    def isInsAvail(self, x, y):\n",
    "        if len(self.cols) < 1:\n",
    "            return True\n",
    "        if self.getCell(x, y):\n",
    "            return False\n",
    "        \n",
    "        ln = self.getCell(x-1, y)\n",
    "        tn = self.getCell(x, y+1)\n",
    "        rn = self.getCell(x+1, y)\n",
    "        bn = self.getCell(x, y-1)\n",
    "        \n",
    "        upper_x = self.w if x > self.w else x\n",
    "        upper_y = self.h if y > self.h else y\n",
    "        \n",
    "        if not (ln or tn or rn or bn):\n",
    "            for i in range(1, upper_x+1):\n",
    "                for j in range(1, upper_y+1):\n",
    "                    if self.getCell(i, j):\n",
    "                        print(f'Cell ({x}, {y}) has bottom, left or bottom-left restrictors!')\n",
    "                        return False\n",
    "            for i in range(x, self.w+1):\n",
    "                for j in range(y, self.h+1):\n",
    "                    if self.getCell(i, j):\n",
    "                        print(self.getCell(i,j), upper_x, upper_y)\n",
    "                        print(f'Cell ({x}, {y}) has top, right or top-right restrictors!')\n",
    "                        return False\n",
    "        \n",
    "        if bn and not ln:\n",
    "            for i in range(1, upper_x):\n",
    "                if self.getCell(i, y) or self.getCell(i, y-1):\n",
    "                    print(f'Cell ({x}, {y}) has left or bottom-left restrictors!')\n",
    "                    return False\n",
    "        \n",
    "        if rn and not tn:\n",
    "            for i in range(y+1, self.h+1):\n",
    "                if self.getCell(x, i) or self.getCell(x+1, i):\n",
    "                    print(f'Cell ({x}, {y}) has top or top-right restrictors!')\n",
    "                    return False\n",
    "        \n",
    "        if tn and not rn:\n",
    "            for i in range(x+1, self.w+1):\n",
    "                if self.getCell(i, y) or self.getCell(i, y+1):\n",
    "                    print(f'Cell ({x}, {y}) has right or top-right restrictors!')\n",
    "                    return False\n",
    "        \n",
    "        if ln and not bn:\n",
    "            for i in range(1, upper_y):\n",
    "                if self.getCell(x, i) or self.getCell(x-1, i):\n",
    "                    print(f'Cell ({x}, {y}) has bottom or bottom-left restrictors!')\n",
    "                    return False\n",
    "        \n",
    "        return True\n",
    "    \n",
    "    def insertCell(self, c):\n",
    "        if not self.isInsAvail(c.x, c.y):\n",
    "            return False\n",
    "        super().insertCell(c)\n",
    "        return True\n",
    "    \n",
    "    def ejectCell(self, x, y):\n",
    "        if not self.isEjAvail(x, y):\n",
    "            return None\n",
    "        return super().ejectCell(x, y)\n",
    "    \n",
    "    def pullDesc(self, x, y):\n",
    "        if x < 1 or y < 1 or x > self.w or y > self.h or self.getCell(x, y):\n",
    "            return\n",
    "        \n",
    "        while x <= self.w and y <= self.h:\n",
    "            right_cell = self.getCell(x+1, y)\n",
    "            upper_cell = self.getCell(x, y+1)\n",
    "            \n",
    "            if upper_cell or right_cell:\n",
    "                pass\n",
    "            else:\n",
    "                break\n",
    "            \n",
    "            newX, newY = x, y+1\n",
    "            target = upper_cell\n",
    "            if right_cell and (not target or right_cell.val < target.val):\n",
    "                newX, newY = x+1, y\n",
    "                target = right_cell\n",
    "            ejected = super().ejectCell(target.x, target.y)\n",
    "            ejected.x -= newX - x\n",
    "            ejected.y -= newY - y\n",
    "            super().insertCell(ejected)\n",
    "            \n",
    "            x, y = newX, newY\n",
    "    \n",
    "    def JDT(self):\n",
    "        if not self.isTable():\n",
    "            print(\"Unable to apply JDT - the diagram is not a table!\")\n",
    "            return None\n",
    "\n",
    "        T = YungDiagramSlash(cells=self.getCellsCopies())\n",
    "        C = T.minComplDiag()\n",
    "        corners = []\n",
    "\n",
    "        for i in range(len(C.lencol)):\n",
    "                x, y = i+1, C.lencol[i]\n",
    "                if C.getCell(x, y).hl == 1:\n",
    "                    corners.append((x, y))\n",
    "\n",
    "        while len(corners) > 0:\n",
    "                x_corn, y_corn = corners[0]\n",
    "                del corners[0]\n",
    "                C.ejectCell(x_corn, y_corn)\n",
    "\n",
    "                if x_corn > 1 and C.getCell(x_corn-1, y_corn).hl == 1:\n",
    "                    corners.append((x_corn-1, y_corn))\n",
    "                if y_corn > 1 and C.getCell(x_corn, y_corn-1).hl == 1:\n",
    "                    corners.append((x_corn, y_corn-1))\n",
    "\n",
    "                T.pullDesc(x_corn, y_corn)\n",
    "\n",
    "        return YungDiagram(cells=T.getCellsList())"
   ]
  },
  {
   "cell_type": "markdown",
   "id": "49999be1",
   "metadata": {},
   "source": [
    "## Генератор случайных перестановок и загрузка диаграмм"
   ]
  },
  {
   "cell_type": "code",
   "execution_count": 7,
   "id": "b879b2cf",
   "metadata": {},
   "outputs": [],
   "source": [
    "# Генератор случайных перестановок\n",
    "def FisherYates(n=1):\n",
    "    a = [i+1 for i in range(n)]\n",
    "    for i in range(n-1):\n",
    "        j = np.random.randint(i, n)\n",
    "        a[j], a[i] = a[i], a[j]\n",
    "    return tuple(a)\n",
    "\n",
    "constructors = {\n",
    "    0: Diagram,\n",
    "    1: YungDiagram,\n",
    "    2: YungDiagramSlash\n",
    "}\n",
    "    \n",
    "def load(fname):\n",
    "    diag = None\n",
    "    fd = open(fname, 'r')\n",
    "    if fd:\n",
    "        ls = fd.readlines()\n",
    "        t = int(ls[0])\n",
    "        \n",
    "        clist = []\n",
    "        for l in ls[1:]:\n",
    "            spl = l.split(' ')\n",
    "            x, y, val = int(spl[0]), int(spl[1]), int(spl[2])\n",
    "            clist.append(Cell(x, y, val))\n",
    "        \n",
    "        if not t in constructors.keys():\n",
    "            print(f'Unable to determine diagram type {t}, defaulting to base Diagram')\n",
    "            t = 0\n",
    "        diag = constructors[t](cells=clist)\n",
    "        fd.close()\n",
    "    return diag"
   ]
  },
  {
   "cell_type": "markdown",
   "id": "4aa81b0e",
   "metadata": {},
   "source": [
    "# Лабораторная №1: Постоянная Голомба-Дикмана"
   ]
  },
  {
   "cell_type": "code",
   "execution_count": 8,
   "id": "b9882305",
   "metadata": {
    "scrolled": true
   },
   "outputs": [
    {
     "name": "stdout",
     "output_type": "stream",
     "text": [
      "Исходная перестановка:\n",
      " 1 -> 17\n",
      " 2 -> 10\n",
      " 3 -> 9\n",
      " 4 -> 18\n",
      " 5 -> 12\n",
      " 6 -> 15\n",
      " 7 -> 13\n",
      " 8 -> 5\n",
      " 9 -> 1\n",
      "10 -> 7\n",
      "11 -> 11\n",
      "12 -> 6\n",
      "13 -> 2\n",
      "14 -> 14\n",
      "15 -> 8\n",
      "16 -> 16\n",
      "17 -> 3\n",
      "18 -> 4\n",
      "\n",
      "\n",
      "Обратная перестановка:\n",
      " 1 -> 9\n",
      " 2 -> 13\n",
      " 3 -> 17\n",
      " 4 -> 18\n",
      " 5 -> 8\n",
      " 6 -> 12\n",
      " 7 -> 10\n",
      " 8 -> 15\n",
      " 9 -> 3\n",
      "10 -> 2\n",
      "11 -> 11\n",
      "12 -> 5\n",
      "13 -> 7\n",
      "14 -> 14\n",
      "15 -> 6\n",
      "16 -> 16\n",
      "17 -> 1\n",
      "18 -> 4\n",
      "\n",
      "\n",
      "Циклы:\n",
      "[(1, 17, 3, 9), (2, 10, 7, 13), (4, 18), (5, 12, 6, 15, 8), (11,), (14,), (16,)]\n",
      "Высоты столбцов, aka длины циклов (по убыванию):\n",
      "(5, 4, 4, 2, 1, 1, 1)\n",
      "Максимальная длина цикла: 5\n",
      "\n",
      "Диаграмма Юнга:\n"
     ]
    },
    {
     "data": {
      "image/png": "[encoded data removed]",
      "text/plain": [
       "<Figure size 504x504 with 1 Axes>"
      ]
     },
     "metadata": {
      "needs_background": "light"
     },
     "output_type": "display_data"
    }
   ],
   "source": [
    "sample_per = (17, 10, 9, 18, 12, 15, 13, 5, 1, 7, 11, 6, 2, 14, 8, 16, 3, 4)\n",
    "sp = Permutation(sample_per)\n",
    "\n",
    "print(\"Исходная перестановка:\", sp, sep='\\n')\n",
    "print(\"Обратная перестановка:\", sp.inv(), sep='\\n')\n",
    "print(\"Циклы:\", sp.cycles(), sep='\\n')\n",
    "print(\"Высоты столбцов, aka длины циклов (по убыванию):\", sp.cols(), sep='\\n')\n",
    "print(\"Максимальная длина цикла:\", sp.max_cycle_len())\n",
    "print()\n",
    "print(\"Диаграмма Юнга:\")\n",
    "sp.yung().draw(mode='hook_len')"
   ]
  },
  {
   "cell_type": "code",
   "execution_count": 9,
   "id": "64a24aa5",
   "metadata": {
    "scrolled": true
   },
   "outputs": [
    {
     "name": "stdout",
     "output_type": "stream",
     "text": [
      "\n",
      "n = 10, N = 50\n",
      "Mean: 0.702000\n",
      "Variance: 0.035396\n",
      "\n",
      "n = 10, N = 100\n",
      "Mean: 0.634000\n",
      "Variance: 0.039244\n",
      "\n",
      "n = 10, N = 1000\n",
      "Mean: 0.649000\n",
      "Variance: 0.042539\n",
      "\n",
      "n = 10, N = 10000\n",
      "Mean: 0.653620\n",
      "Variance: 0.040279\n",
      "\n",
      "n = 50, N = 50\n",
      "Mean: 0.621600\n",
      "Variance: 0.035069\n",
      "\n",
      "n = 50, N = 100\n",
      "Mean: 0.628200\n",
      "Variance: 0.041697\n",
      "\n",
      "n = 50, N = 1000\n",
      "Mean: 0.634220\n",
      "Variance: 0.037631\n",
      "\n",
      "n = 50, N = 10000\n",
      "Mean: 0.634102\n",
      "Variance: 0.037617\n",
      "\n",
      "n = 100, N = 50\n",
      "Mean: 0.627000\n",
      "Variance: 0.035389\n",
      "\n",
      "n = 100, N = 100\n",
      "Mean: 0.628900\n",
      "Variance: 0.035368\n",
      "\n",
      "n = 100, N = 1000\n",
      "Mean: 0.626750\n",
      "Variance: 0.035622\n",
      "\n",
      "n = 100, N = 10000\n",
      "Mean: 0.625004\n",
      "Variance: 0.036955\n",
      "\n",
      "n = 1000, N = 50\n",
      "Mean: 0.645760\n",
      "Variance: 0.040813\n",
      "\n",
      "n = 1000, N = 100\n",
      "Mean: 0.620690\n",
      "Variance: 0.039096\n",
      "\n",
      "n = 1000, N = 1000\n",
      "Mean: 0.629402\n",
      "Variance: 0.035240\n",
      "\n",
      "n = 1000, N = 10000\n",
      "Mean: 0.623635\n",
      "Variance: 0.036616\n"
     ]
    }
   ],
   "source": [
    "lengths = (10, 50, 100, 1000)\n",
    "amounts = (50, 100, 1000, 10000)\n",
    "\n",
    "for n in lengths:\n",
    "    for N in amounts:\n",
    "        obs = []\n",
    "        for i in range(N):\n",
    "            rp = Permutation(FisherYates(n))\n",
    "            obs.append(rp.max_cycle_len()/rp.length())\n",
    "\n",
    "        print()\n",
    "        print(f'n = {n}, N = {N}')\n",
    "        print('Mean: {:.6f}'.format(np.mean(obs)))\n",
    "        print('Variance: {:.6f}'.format(np.std(obs)**2))"
   ]
  },
  {
   "cell_type": "markdown",
   "id": "ec9b1e15",
   "metadata": {},
   "source": [
    "# Лабораторная №2: Игра \"15\"\n",
    "\n",
    "## Генерация таблиц"
   ]
  },
  {
   "cell_type": "code",
   "execution_count": 10,
   "id": "642f4164",
   "metadata": {
    "scrolled": true
   },
   "outputs": [
    {
     "data": {
      "image/png": "[encoded data removed]",
      "text/plain": [
       "<Figure size 504x504 with 1 Axes>"
      ]
     },
     "metadata": {
      "needs_background": "light"
     },
     "output_type": "display_data"
    },
    {
     "data": {
      "image/png": "[encoded data removed]",
      "text/plain": [
       "<Figure size 504x504 with 1 Axes>"
      ]
     },
     "metadata": {
      "needs_background": "light"
     },
     "output_type": "display_data"
    }
   ],
   "source": [
    "#sample_per = (17, 10, 9, 18, 12, 15, 13, 5, 1, 7, 11, 6, 2, 14, 8, 16, 3, 4)\n",
    "sample_per = FisherYates(50)\n",
    "sp = Permutation(sample_per)\n",
    "P, Q = sp.RSK()\n",
    "P.draw()\n",
    "Q.draw()"
   ]
  },
  {
   "cell_type": "code",
   "execution_count": null,
   "id": "17e67056",
   "metadata": {},
   "outputs": [],
   "source": [
    "P.save(\"P_sample.txt\")\n",
    "Q.save(\"Q_sample.txt\")"
   ]
  },
  {
   "cell_type": "code",
   "execution_count": 11,
   "id": "e95f6a30",
   "metadata": {},
   "outputs": [],
   "source": [
    "P, Q = load(\"P_sample.txt\"), load(\"Q_sample.txt\")"
   ]
  },
  {
   "cell_type": "markdown",
   "id": "e46e46a7",
   "metadata": {},
   "source": [
    "## Разборка Q, затем вычитаем Q из P и добавляем еще клеток"
   ]
  },
  {
   "cell_type": "code",
   "execution_count": 12,
   "id": "960e8515",
   "metadata": {
    "scrolled": false
   },
   "outputs": [
    {
     "data": {
      "image/png": "[encoded data removed]",
      "text/plain": [
       "<Figure size 504x504 with 1 Axes>"
      ]
     },
     "metadata": {
      "needs_background": "light"
     },
     "output_type": "display_data"
    },
    {
     "data": {
      "text/plain": [
       "True"
      ]
     },
     "execution_count": 12,
     "metadata": {},
     "output_type": "execute_result"
    }
   ],
   "source": [
    "# Верхний левый кусок\n",
    "Q.ejectCell(1,11)\n",
    "Q.ejectCell(1,10)\n",
    "Q.ejectCell(2,9)\n",
    "Q.ejectCell(1,9)\n",
    "\n",
    "# Кусок из правой части\n",
    "Q.ejectCell(7,3)\n",
    "Q.ejectCell(9,2)\n",
    "Q.ejectCell(8,2)\n",
    "Q.ejectCell(7,2)\n",
    "\n",
    "PQslash = P - Q\n",
    "\n",
    "# Кусок посередине\n",
    "PQslash.insertCell(Cell(6,5,2))\n",
    "PQslash.insertCell(Cell(6,6,3))\n",
    "PQslash.insertCell(Cell(5,6,1))\n",
    "PQslash.insertCell(Cell(5,7,4))\n",
    "PQslash.insertCell(Cell(6,7,5))\n",
    "\n",
    "PQslash.draw()\n",
    "PQslash.save(\"slash_example.txt\")"
   ]
  },
  {
   "cell_type": "markdown",
   "id": "e73fd676",
   "metadata": {},
   "source": [
    "## Загрузка и проверка табличности"
   ]
  },
  {
   "cell_type": "code",
   "execution_count": 13,
   "id": "cf6c6b18",
   "metadata": {},
   "outputs": [
    {
     "data": {
      "image/png": "[encoded data removed]",
      "text/plain": [
       "<Figure size 504x504 with 1 Axes>"
      ]
     },
     "metadata": {
      "needs_background": "light"
     },
     "output_type": "display_data"
    },
    {
     "name": "stdout",
     "output_type": "stream",
     "text": [
      "Диаграмма является косой таблицей Юнга\n"
     ]
    }
   ],
   "source": [
    "slash = load(\"slash_example.txt\")\n",
    "#slash.reassignValue(6,6,7)\n",
    "slash.draw()\n",
    "print(f\"Диаграмма {('' if slash.isTable() else 'не ')}является косой таблицей Юнга\")"
   ]
  },
  {
   "cell_type": "markdown",
   "id": "8106b849",
   "metadata": {},
   "source": [
    "## Минимальная дополняющая диаграмма прямой формы"
   ]
  },
  {
   "cell_type": "code",
   "execution_count": 14,
   "id": "6b4b366f",
   "metadata": {},
   "outputs": [
    {
     "data": {
      "image/png": "[encoded data removed]",
      "text/plain": [
       "<Figure size 504x504 with 1 Axes>"
      ]
     },
     "metadata": {
      "needs_background": "light"
     },
     "output_type": "display_data"
    }
   ],
   "source": [
    "slash.minComplDiag().draw()"
   ]
  },
  {
   "cell_type": "markdown",
   "id": "c23d2498",
   "metadata": {},
   "source": [
    "## Непосредственно JDT"
   ]
  },
  {
   "cell_type": "code",
   "execution_count": 15,
   "id": "0ec3ef89",
   "metadata": {},
   "outputs": [
    {
     "data": {
      "image/png": "[encoded data removed]",
      "text/plain": [
       "<Figure size 504x504 with 1 Axes>"
      ]
     },
     "metadata": {
      "needs_background": "light"
     },
     "output_type": "display_data"
    },
    {
     "name": "stdout",
     "output_type": "stream",
     "text": [
      "Диаграмма является таблицей Юнга прямой формы\n"
     ]
    }
   ],
   "source": [
    "jdt = slash.JDT()\n",
    "#jdt.reassignValue(3,1,6)\n",
    "jdt.draw()\n",
    "print(f\"Диаграмма {('' if jdt.isTable() else 'не ')}является таблицей Юнга прямой формы\")"
   ]
  },
  {
   "cell_type": "markdown",
   "id": "dcd979b2",
   "metadata": {},
   "source": [
    "## Проверка по RSK"
   ]
  },
  {
   "cell_type": "code",
   "execution_count": 16,
   "id": "879e85d5",
   "metadata": {},
   "outputs": [
    {
     "data": {
      "image/png": "[encoded data removed]",
      "text/plain": [
       "<Figure size 504x504 with 1 Axes>"
      ]
     },
     "metadata": {
      "needs_background": "light"
     },
     "output_type": "display_data"
    }
   ],
   "source": [
    "rg = jdt.reading()\n",
    "rp = Permutation(rg)\n",
    "Pr, Qr = rp.RSK()\n",
    "Pr.draw()"
   ]
  }
 ],
 "metadata": {
  "kernelspec": {
   "display_name": "Python 3 (ipykernel)",
   "language": "python",
   "name": "python3"
  },
  "language_info": {
   "codemirror_mode": {
    "name": "ipython",
    "version": 3
   },
   "file_extension": ".py",
   "mimetype": "text/x-python",
   "name": "python",
   "nbconvert_exporter": "python",
   "pygments_lexer": "ipython3",
   "version": "3.9.10"
  }
 },
 "nbformat": 4,
 "nbformat_minor": 5
}
